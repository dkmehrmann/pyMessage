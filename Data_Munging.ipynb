{
 "cells": [
  {
   "cell_type": "markdown",
   "metadata": {},
   "source": [
    "Before you get started you're gonna have to do something like:\n",
    "\n",
    "```\n",
    "cp -r  ~/Library/Application\\ Support/MobileSync/Backup/44df4b8f8399beb6b4e374c33b0ff75e603c06c9/3d/3d0d7e5fb2ce288813306e4d4636395e047a3d28 ~/work/notebooks/chat.db\n",
    "\n",
    "cp -r  ~/Library/Application\\ Support/MobileSync/Backup/44df4b8f8399beb6b4e374c33b0ff75e603c06c9/31/31bb7ba8914766d4ba40d6dfb6113c8b614be442 ~/work/notebooks/contacts.db\n",
    "```\n",
    "\n",
    "The filepaths above are for Mac. **And you need to do an unencrypted iTunes backup of your iPhone.**"
   ]
  },
  {
   "cell_type": "code",
   "execution_count": null,
   "metadata": {
    "collapsed": false
   },
   "outputs": [],
   "source": [
    "import sqlite3\n",
    "import pandas as pd\n",
    "# watch out, i pip installed this in a docker container so we'll see how this goes\n",
    "from phonenumbers import format_number, parse as pn_parse\n",
    "from phonenumbers import PhoneNumberFormat\n",
    "import matplotlib.pyplot as plt\n",
    "\n",
    "%matplotlib inline"
   ]
  },
  {
   "cell_type": "code",
   "execution_count": null,
   "metadata": {
    "collapsed": false
   },
   "outputs": [],
   "source": [
    "def parse_phone(x):\n",
    "    try:\n",
    "        return format_number(pn_parse(x, 'US'), PhoneNumberFormat.E164)\n",
    "    except:\n",
    "        return x\n",
    "    \n",
    "def explore_db(conn):\n",
    "    cur = conn.cursor()\n",
    "    cur.execute(\"SELECT name FROM sqlite_master WHERE type='table';\")\n",
    "    print(cur.fetchall())"
   ]
  },
  {
   "cell_type": "markdown",
   "metadata": {},
   "source": [
    "## The Chat DB"
   ]
  },
  {
   "cell_type": "code",
   "execution_count": null,
   "metadata": {
    "collapsed": false
   },
   "outputs": [],
   "source": [
    "conn = sqlite3.connect('chat.db')\n",
    "explore_db(conn)"
   ]
  },
  {
   "cell_type": "code",
   "execution_count": null,
   "metadata": {
    "collapsed": true
   },
   "outputs": [],
   "source": [
    "query = \"\"\"\n",
    "SELECT chat.chat_identifier, message.is_from_me, \n",
    "datetime(message.date/1000000000 + strftime('%s', '2001-01-01 00:00:00'),\n",
    "       'unixepoch', 'localtime') as date, \n",
    "message.text \n",
    "FROM chat \n",
    "JOIN chat_message_join on chat.ROWID = chat_message_join.chat_id\n",
    "JOIN message on message.ROWID = chat_message_join.message_id\n",
    "\"\"\""
   ]
  },
  {
   "cell_type": "code",
   "execution_count": null,
   "metadata": {
    "collapsed": false
   },
   "outputs": [],
   "source": [
    "df = pd.read_sql(query, conn)"
   ]
  },
  {
   "cell_type": "code",
   "execution_count": null,
   "metadata": {
    "collapsed": false
   },
   "outputs": [],
   "source": [
    "df.shape"
   ]
  },
  {
   "cell_type": "code",
   "execution_count": null,
   "metadata": {
    "collapsed": false
   },
   "outputs": [],
   "source": [
    "df_canonicalized_phone = pd.read_sql('SELECT * FROM handle', conn)"
   ]
  },
  {
   "cell_type": "markdown",
   "metadata": {},
   "source": [
    "## The Contacts DB"
   ]
  },
  {
   "cell_type": "code",
   "execution_count": null,
   "metadata": {
    "collapsed": false
   },
   "outputs": [],
   "source": [
    "conn = sqlite3.connect('contacts.db')\n",
    "explore_db(conn)"
   ]
  },
  {
   "cell_type": "code",
   "execution_count": null,
   "metadata": {
    "collapsed": true
   },
   "outputs": [],
   "source": [
    "query = \"\"\"\n",
    "SELECT First, Last, Value \n",
    "FROM ABPerson \n",
    "LEFT OUTER JOIN ABMultiValue \n",
    "ON ABPerson.ROWID = ABMultiValue.record_id\n",
    "\"\"\""
   ]
  },
  {
   "cell_type": "code",
   "execution_count": null,
   "metadata": {
    "collapsed": false
   },
   "outputs": [],
   "source": [
    "df_names = pd.read_sql(query, conn)\n",
    "df_names = df_names.fillna(\"\")\n",
    "df_names['First_Last'] = df_names[['First', 'Last']].apply(lambda x: '_'.join(x), axis=1)\n",
    "df_names['parsed_phone'] = df_names.value.apply(parse_phone)\n",
    "df_names = df_names[df_names.parsed_phone != \"\"]"
   ]
  },
  {
   "cell_type": "markdown",
   "metadata": {},
   "source": [
    "## Creating the final dataset"
   ]
  },
  {
   "cell_type": "code",
   "execution_count": null,
   "metadata": {
    "collapsed": false
   },
   "outputs": [],
   "source": [
    "df = df.merge(df_names, left_on='chat_identifier', right_on='parsed_phone', how='left')"
   ]
  },
  {
   "cell_type": "code",
   "execution_count": null,
   "metadata": {
    "collapsed": false
   },
   "outputs": [],
   "source": [
    "conn = sqlite3.connect('analysis.db')\n",
    "df.to_sql(\"messages\", conn, index=False, if_exists='replace')"
   ]
  }
 ],
 "metadata": {
  "kernelspec": {
   "display_name": "Python 3",
   "language": "python",
   "name": "python3"
  },
  "language_info": {
   "codemirror_mode": {
    "name": "ipython",
    "version": 3
   },
   "file_extension": ".py",
   "mimetype": "text/x-python",
   "name": "python",
   "nbconvert_exporter": "python",
   "pygments_lexer": "ipython3",
   "version": "3.4.3"
  }
 },
 "nbformat": 4,
 "nbformat_minor": 0
}
